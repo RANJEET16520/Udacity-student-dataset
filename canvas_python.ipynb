{
 "cells": [
  {
   "cell_type": "code",
   "execution_count": 24,
   "metadata": {
    "collapsed": false
   },
   "outputs": [
    {
     "name": "stdout",
     "output_type": "stream",
     "text": [
      "{u'status': u'canceled', u'is_udacity': u'True', u'is_canceled': u'True', u'join_date': u'2014-11-10', u'account_key': u'448', u'cancel_date': u'2015-01-14', u'days_to_cancel': u'65'}\n",
      "----\n",
      "{u'lessons_completed': u'0.0', u'num_courses_visited': u'1.0', u'total_minutes_visited': u'11.6793745', u'projects_completed': u'0.0', u'acct': u'0', u'utc_date': u'2015-01-09'}\n",
      "----\n",
      "{u'lesson_key': u'3176718735', u'processing_state': u'EVALUATED', u'account_key': u'256', u'assigned_rating': u'UNGRADED', u'completion_date': u'2015-01-16', u'creation_date': u'2015-01-14'}\n"
     ]
    }
   ],
   "source": [
    "import unicodecsv as csv\n",
    "\n",
    "# Latihan 1: fungsi convert csv ke dictonary\n",
    "def csv_importer(filename):\n",
    "    with open(filename, 'rb') as f:\n",
    "        reader = csv.DictReader(f)\n",
    "        return list(reader)\n",
    "\n",
    "enrollments = csv_importer('enrollments.csv')\n",
    "daily_engagement = csv_importer('daily_engagement.csv')\n",
    "project_submissions = csv_importer('project_submissions.csv')\n",
    "\n",
    "print enrollments[0]\n",
    "print '----'\n",
    "print daily_engagement[0]\n",
    "print '----'\n",
    "print project_submissions[0]"
   ]
  },
  {
   "cell_type": "code",
   "execution_count": 30,
   "metadata": {
    "collapsed": false
   },
   "outputs": [
    {
     "name": "stdout",
     "output_type": "stream",
     "text": [
      "1640\n",
      "136240\n",
      "3642\n",
      "----------\n",
      "1302\n",
      "1237\n",
      "743\n",
      "0\n"
     ]
    }
   ],
   "source": [
    "def count_unique_enrolled_students(list_of_dict, unique_key):\n",
    "    unique_enrolled_students = set()\n",
    "    for row in list_of_dict:\n",
    "        unique_enrolled_students.add(row[unique_key])\n",
    "\n",
    "    return len(unique_enrolled_students)\n",
    "\n",
    "\n",
    "print len(enrollments)\n",
    "print len(daily_engagement)\n",
    "print len(project_submissions)\n",
    "print '----------'\n",
    "print count_unique_enrolled_students(enrollments, 'account_key')\n",
    "print count_unique_enrolled_students(daily_engagement, 'account_key')\n",
    "print count_unique_enrolled_students(project_submissions, 'account_key')\n",
    "print daily_engagement[0]['account_key']"
   ]
  },
  {
   "cell_type": "code",
   "execution_count": null,
   "metadata": {
    "collapsed": true
   },
   "outputs": [],
   "source": []
  }
 ],
 "metadata": {
  "kernelspec": {
   "display_name": "Python 2",
   "language": "python",
   "name": "python2"
  },
  "language_info": {
   "codemirror_mode": {
    "name": "ipython",
    "version": 2
   },
   "file_extension": ".py",
   "mimetype": "text/x-python",
   "name": "python",
   "nbconvert_exporter": "python",
   "pygments_lexer": "ipython2",
   "version": "2.7.10"
  }
 },
 "nbformat": 4,
 "nbformat_minor": 0
}
