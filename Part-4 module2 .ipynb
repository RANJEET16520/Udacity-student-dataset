{
 "cells": [
  {
   "cell_type": "markdown",
   "metadata": {},
   "source": [
    "Importing Libraries"
   ]
  },
  {
   "cell_type": "code",
   "execution_count": null,
   "metadata": {},
   "outputs": [],
   "source": [
    "import pandas as pd\n",
    "from datetime import datetime \n",
    "import matplotlib.pyplot as plt\n",
    "from collections import defaultdict\n",
    "import numpy as np"
   ]
  },
  {
   "cell_type": "markdown",
   "metadata": {},
   "source": [
    "Uploading dataset"
   ]
  },
  {
   "cell_type": "code",
   "execution_count": null,
   "metadata": {},
   "outputs": [],
   "source": [
    "enroll_file = pd.read_csv('enrollments.csv')\n",
    "enroll_datafile = pd.DataFrame(data = enroll_file)\n",
    "print(enroll_datafile.shape)\n",
    "print(enroll_datafile.loc[enroll_datafile['account_key']==True])\n",
    "\n",
    "engage_file = pd.read_csv('daily_engagement.csv')\n",
    "engage_datafile = pd.DataFrame(data = engage_file)\n",
    "print(engage_datafile.shape)\n",
    "\n",
    "project_file = pd.read_csv('project_submissions.csv')\n",
    "project_datafile = pd.DataFrame(data = project_file)\n",
    "print(project_datafile.shape)"
   ]
  },
  {
   "cell_type": "code",
   "execution_count": null,
   "metadata": {},
   "outputs": [],
   "source": [
    "enroll_datafile.head()\n",
    "engage_datafile.head()"
   ]
  },
  {
   "cell_type": "markdown",
   "metadata": {},
   "source": [
    "Finding Unique values"
   ]
  },
  {
   "cell_type": "code",
   "execution_count": null,
   "metadata": {},
   "outputs": [],
   "source": [
    "unique_enroll = enroll_datafile.loc[(enroll_datafile['account_key'].unique())]\n",
    "unique_project = project_datafile.loc[(project_datafile['account_key'].unique())]\n",
    "unique_engage = engage_datafile.loc[(engage_datafile['account_key'].unique())]\n",
    "\n",
    "print(len(unique_enroll))\n",
    "print(len(unique_project))\n",
    "print(len(unique_engage))\n",
    "print(unique_engage)"
   ]
  },
  {
   "cell_type": "code",
   "execution_count": null,
   "metadata": {},
   "outputs": [],
   "source": [
    "enroll_datafile.rename({'acc':'account_key'},inplace = True)\n",
    "enroll_datafile.head()"
   ]
  },
  {
   "cell_type": "markdown",
   "metadata": {},
   "source": [
    "Missing engagement records"
   ]
  },
  {
   "cell_type": "code",
   "execution_count": null,
   "metadata": {},
   "outputs": [],
   "source": [
    "no=0\n",
    "for element in enroll_datafile['account_key']:\n",
    "    if element not in unique_engage:\n",
    "        no+=1\n",
    "\n",
    "print(no)"
   ]
  },
  {
   "cell_type": "markdown",
   "metadata": {},
   "source": [
    "Checking for student stays in course"
   ]
  },
  {
   "cell_type": "code",
   "execution_count": null,
   "metadata": {},
   "outputs": [],
   "source": [
    "for index,rows in enroll_datafile.iterrows():\n",
    "    ele = rows['account_key']\n",
    "    if ele in unique_engage and rows['join_date']!=rows['cancel_date']:\n",
    "        print(rows)"
   ]
  },
  {
   "cell_type": "markdown",
   "metadata": {},
   "source": [
    "Refining the Students stays more than 7 days in the courses"
   ]
  },
  {
   "cell_type": "code",
   "execution_count": null,
   "metadata": {},
   "outputs": [],
   "source": [
    "paid_student = {}\n",
    "cnt = 0\n",
    "for index,rows in enroll_datafile.iterrows():\n",
    "    if rows['days_to_cancel']>7 or not rows['is_canceled']:\n",
    "        cnt+=1\n",
    "        paid_student.update({rows['account_key']:rows['account_key']})\n",
    "\n",
    "print(cnt)\n",
    "len(paid_student)"
   ]
  },
  {
   "cell_type": "code",
   "execution_count": null,
   "metadata": {},
   "outputs": [],
   "source": [
    "paid_student = {}\n",
    "for index, rows in enroll_datafile.iterrows():\n",
    "    if pd.isnull(rows['days_to_cancel']) or rows['days_to_cancel']>7:\n",
    "        paid_student.update({rows['account_key']:rows['join_date']})\n",
    "len(paid_student)\n",
    "        "
   ]
  },
  {
   "cell_type": "markdown",
   "metadata": {},
   "source": [
    "Getting Data from First Week"
   ]
  },
  {
   "cell_type": "code",
   "execution_count": null,
   "metadata": {},
   "outputs": [],
   "source": [
    "def within_week(join_date,engage_date):\n",
    "    x = datetime.strptime(engage_date,'%Y-%m-%d')\n",
    "    y = datetime.strptime(join_date,'%Y-%m-%d')\n",
    "    z = (x-y)\n",
    "    if z.days<7 and z.days>=0:\n",
    "        return True\n",
    "    return False\n",
    "paid_engagement = []\n",
    "\n",
    "def first_week():\n",
    "    for index,rows in engage_datafile.iterrows():\n",
    "        ac = rows['account_key']\n",
    "        if ac in paid_student.keys():\n",
    "            join_date = paid_student[ac]\n",
    "            engage_date = rows['utc_date']\n",
    "            if within_week(join_date, engage_date):\n",
    "                paid_engagement.append(rows)\n",
    "    len(paid_engagement)\n",
    "\n",
    "first_week()\n",
    "len(paid_engagement)"
   ]
  },
  {
   "cell_type": "markdown",
   "metadata": {},
   "source": [
    "Lessons Completed in First Week"
   ]
  },
  {
   "cell_type": "code",
   "execution_count": null,
   "metadata": {},
   "outputs": [],
   "source": [
    "def data_print(data):\n",
    "    print('Mean : {}, Std : {}, Max : {}, Min : {}'.format(np.average(list(data.values())), np.std(list(data.values())), np.max(list(data.values())),np.min(list(data.values()))))\n",
    "\n",
    "\n",
    "engage_account = defaultdict(list)\n",
    "for student in paid_engagement:\n",
    "    ac = student['account_key']\n",
    "    engage_account[ac].append(student) \n",
    "len(engage_account)\n",
    "\n",
    "total_min = {}\n",
    "for key,value in engage_account.items():\n",
    "    total = 0\n",
    "    for ind in value:\n",
    "        total += ind['total_minutes_visited']\n",
    "    total_min[key] = total \n",
    "(total_min)\n",
    "data_print(total_min) "
   ]
  },
  {
   "cell_type": "code",
   "execution_count": null,
   "metadata": {},
   "outputs": [],
   "source": [
    "lesson_completed = {}\n",
    "for key,value in engage_account.items():\n",
    "    ls = 0\n",
    "    for ind in value:       \n",
    "        if ls < (ind['lessons_completed']):\n",
    "            ls = (ind['lessons_completed'])\n",
    "    lesson_completed[key] = ls\n",
    "lesson_completed"
   ]
  },
  {
   "cell_type": "markdown",
   "metadata": {},
   "source": [
    "Number of Visits in the First Week"
   ]
  },
  {
   "cell_type": "code",
   "execution_count": null,
   "metadata": {},
   "outputs": [],
   "source": [
    "has_visited = {}\n",
    "for key,value in engage_account.items():\n",
    "    cnt = 0\n",
    "    for ind in value:      \n",
    "        ind['has_visited'] = 0\n",
    "        if ind['num_courses_visited'] > 0:\n",
    "            ind['has_visited'] = 1\n",
    "            cnt += ind['has_visited']\n",
    "        has_visited[key]=cnt\n",
    "print(len(has_visited))\n",
    "\n",
    "data_print(has_visited)"
   ]
  },
  {
   "cell_type": "markdown",
   "metadata": {},
   "source": [
    "Splitting out Passing Students"
   ]
  },
  {
   "cell_type": "code",
   "execution_count": null,
   "metadata": {},
   "outputs": [],
   "source": [
    "subway_key = [746169184,3176718735]\n",
    "submission_value = ['PASSED','DISTINCTION']\n",
    "\n",
    "passed_project = set()\n",
    "non_passed_project = set()\n",
    "for index, row in project_datafile.iterrows():\n",
    "    lesn = row['lesson_key']\n",
    "    rating = row['assigned_rating']\n",
    "    if rating in submission_value and lesn in subway_key:\n",
    "            passed_project.add(row['account_key'])\n",
    "    else:\n",
    "        non_passed_project.add(row['account_key'])\n",
    "print(len(passed_project))\n",
    "print(len(non_passed_project))\n",
    "print(len(project_datafile))"
   ]
  },
  {
   "cell_type": "markdown",
   "metadata": {},
   "source": [
    "Comparing the Two Student Groups"
   ]
  },
  {
   "cell_type": "code",
   "execution_count": null,
   "metadata": {},
   "outputs": [],
   "source": [
    "passed_engagement = []\n",
    "non_passed_engagement = []\n",
    "\n",
    "for rows in paid_engagement:\n",
    "    if rows['account_key'] in passed_project:\n",
    "        passed_engagement.append(rows['account_key'])\n",
    "        \n",
    "    else:\n",
    "        non_passed_engagement.append(rows['account_key'])\n",
    "    \n",
    "print(len(passed_engagement))\n",
    "print(len(non_passed_engagement))\n",
    "\n",
    "print(len(paid_engagement))\n"
   ]
  },
  {
   "cell_type": "code",
   "execution_count": null,
   "metadata": {},
   "outputs": [],
   "source": [
    "def all_calculte(data,point):\n",
    "    passed_min_id = {}\n",
    "    for key,value in engage_account.items():\n",
    "        ac = key\n",
    "        if ac in data:\n",
    "            passed_minute = []\n",
    "            for row in value:\n",
    "                passed_minute.append(row[point])\n",
    "            passed_min_id[ac] = np.average(passed_minute)\n",
    "#             print(str(key)+\":\"+str(passed_minute))\n",
    "    return passed_min_id\n",
    "\n",
    "passed_minute = all_calculte(passed_project,'total_minutes_visited')\n",
    "passed_lesson = all_calculte(passed_project,'lessons_completed')\n",
    "passed_course_visited = all_calculte(passed_project,'num_courses_visited')\n",
    "\n",
    "non_passed_minute = all_calculte(non_passed_project,'total_minutes_visited')\n",
    "non_passed_lesson = all_calculte(non_passed_project,'lessons_completed')\n",
    "non_passed_course_visited = all_calculte(non_passed_project,'lessons_completed')"
   ]
  },
  {
   "cell_type": "markdown",
   "metadata": {},
   "source": [
    "Making Histograms"
   ]
  },
  {
   "cell_type": "code",
   "execution_count": null,
   "metadata": {},
   "outputs": [],
   "source": [
    "plt.xlabel(\"Label for x axis\")\n",
    "plt.ylabel(\"Label for y axis\")\n",
    "plt.title(\"Average minutes for passed students\")\n",
    "plt.hist(list(passed_minute.values()))\n",
    "plt.show()\n",
    "\n",
    "plt.xlabel(\"Label for x axis\")\n",
    "plt.ylabel(\"Label for y axis\")\n",
    "plt.title(\"Number of lesson completed by passed students\")\n",
    "plt.hist(list(passed_lesson.values()))\n",
    "plt.show()\n",
    "\n",
    "plt.xlabel(\"Label for x axis\")\n",
    "plt.ylabel(\"Label for y axis\")\n",
    "plt.title(\"Number of Courses Visited for passed students\")\n",
    "plt.hist(list(passed_course_visited.values()))\n",
    "plt.show()"
   ]
  },
  {
   "cell_type": "code",
   "execution_count": null,
   "metadata": {},
   "outputs": [],
   "source": [
    "plt.xlabel(\"Label for x axis\")\n",
    "plt.ylabel(\"Label for y axis\")\n",
    "plt.title(\"Average minutes for non-passed students\")\n",
    "plt.hist(list(non_passed_minute.values()))\n",
    "plt.show()\n",
    "\n",
    "plt.xlabel(\"Label for x axis\")\n",
    "plt.ylabel(\"Label for y axis\")\n",
    "plt.title(\"Number of lesson completed by non-passed students\")\n",
    "plt.hist(list(non_passed_lesson.values()))\n",
    "plt.show()\n",
    "\n",
    "plt.xlabel(\"Label for x axis\")\n",
    "plt.ylabel(\"Label for y axis\")\n",
    "plt.title(\"Number of Courses Visited for non-passed students\")\n",
    "plt.hist(list(non_passed_course_visited.values()))\n",
    "plt.show()"
   ]
  },
  {
   "cell_type": "code",
   "execution_count": null,
   "metadata": {},
   "outputs": [],
   "source": [
    "print(np.max(list(passed_minute.values())))"
   ]
  }
 ],
 "metadata": {
  "kernelspec": {
   "display_name": "Python 3",
   "language": "python",
   "name": "python3"
  },
  "language_info": {
   "codemirror_mode": {
    "name": "ipython",
    "version": 3
   },
   "file_extension": ".py",
   "mimetype": "text/x-python",
   "name": "python",
   "nbconvert_exporter": "python",
   "pygments_lexer": "ipython3",
   "version": "3.6.7"
  }
 },
 "nbformat": 4,
 "nbformat_minor": 2
}
